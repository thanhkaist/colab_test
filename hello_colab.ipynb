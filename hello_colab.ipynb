{
  "nbformat": 4,
  "nbformat_minor": 0,
  "metadata": {
    "colab": {
      "name": "hello_colab.ipynb",
      "provenance": [],
      "collapsed_sections": [],
      "toc_visible": true,
      "authorship_tag": "ABX9TyPyHi+ApCJK93Qi7gZvbEp4",
      "include_colab_link": true
    },
    "kernelspec": {
      "name": "python3",
      "display_name": "Python 3"
    }
  },
  "cells": [
    {
      "cell_type": "markdown",
      "metadata": {
        "id": "view-in-github",
        "colab_type": "text"
      },
      "source": [
        "<a href=\"https://colab.research.google.com/github/thanhkaist/colab_test/blob/master/hello_colab.ipynb\" target=\"_parent\"><img src=\"https://colab.research.google.com/assets/colab-badge.svg\" alt=\"Open In Colab\"/></a>"
      ]
    },
    {
      "cell_type": "markdown",
      "metadata": {
        "id": "VA7oY_qNR50z",
        "colab_type": "text"
      },
      "source": [
        "# Test basic functions\n",
        "- Install packages\n",
        "- Check version\n",
        "- Run python"
      ]
    },
    {
      "cell_type": "code",
      "metadata": {
        "id": "ymFpLzE6R__A",
        "colab_type": "code",
        "colab": {}
      },
      "source": [
        "!pip list \n",
        "!pip install numpy \n",
        "!python --version"
      ],
      "execution_count": 0,
      "outputs": []
    },
    {
      "cell_type": "code",
      "metadata": {
        "id": "5s_yHpkgSGHg",
        "colab_type": "code",
        "colab": {}
      },
      "source": [
        "print(\"Hello world 1\")"
      ],
      "execution_count": 0,
      "outputs": []
    },
    {
      "cell_type": "code",
      "metadata": {
        "id": "VtHBC7h6Ssjq",
        "colab_type": "code",
        "colab": {}
      },
      "source": [
        "!git clone https://github.com/thanhkaist/colab_test.git"
      ],
      "execution_count": 0,
      "outputs": []
    },
    {
      "cell_type": "code",
      "metadata": {
        "id": "WAFX_clSXTSr",
        "colab_type": "code",
        "colab": {}
      },
      "source": [
        "from colab_test.foo import foo, bar"
      ],
      "execution_count": 0,
      "outputs": []
    },
    {
      "cell_type": "code",
      "metadata": {
        "id": "vFkEgpuVXdJu",
        "colab_type": "code",
        "outputId": "b3b2b445-d3b0-4dc6-9ffa-c60bac05563e",
        "colab": {
          "base_uri": "https://localhost:8080/",
          "height": 51
        }
      },
      "source": [
        "foo()\n",
        "bar()"
      ],
      "execution_count": 0,
      "outputs": [
        {
          "output_type": "stream",
          "text": [
            "foo func\n",
            "bar func\n"
          ],
          "name": "stdout"
        }
      ]
    }
  ]
}